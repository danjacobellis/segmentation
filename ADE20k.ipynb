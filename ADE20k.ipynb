{
 "cells": [
  {
   "cell_type": "code",
   "execution_count": 1,
   "id": "de63fb14-57f9-4b65-bcd6-d267c7f232f8",
   "metadata": {},
   "outputs": [],
   "source": [
    "from datasets import load_dataset, Image\n",
    "from torch.utils.data import DataLoader\n",
    "from mit_semseg.models.resnet import resnet50\n",
    "from mit_semseg.models import ModelBuilder, SegmentationModule \n",
    "import PIL\n",
    "import torch\n",
    "import torch.nn as nn\n",
    "from torch.optim import AdamW\n",
    "from fastprogress.fastprogress import master_bar, progress_bar\n",
    "import numpy as np"
   ]
  },
  {
   "cell_type": "code",
   "execution_count": 2,
   "id": "d0ab0de8-5515-4724-86d1-fbcf94b43abd",
   "metadata": {},
   "outputs": [],
   "source": [
    "ade20k_train = load_dataset(\"scene_parse_150\",split='train')\n",
    "ade20k_valid = load_dataset(\"scene_parse_150\",split='validation')"
   ]
  },
  {
   "cell_type": "code",
   "execution_count": 3,
   "id": "c6a96cda-4680-4e9a-8ef2-3df590923728",
   "metadata": {},
   "outputs": [],
   "source": [
    "def prep_dataset(sample):\n",
    "    img = sample['image']\n",
    "    label = sample['annotation']\n",
    "    sample['width'] = img.width\n",
    "    sample['height'] = img.height\n",
    "\n",
    "    if (img.mode == 'L') | (img.mode == 'CMYK') | (img.mode == 'RGBA'):\n",
    "        rgbimg = PIL.Image.new(\"RGB\", img.size)\n",
    "        rgbimg.paste(img)\n",
    "        img = rgbimg\n",
    "\n",
    "    img = img.resize((256,256),resample=PIL.Image.Resampling.LANCZOS)\n",
    "    # label = label.resize((256,256),resample=PIL.Image.Resampling.NEAREST)\n",
    "    label = label.resize((32,32),resample=PIL.Image.Resampling.NEAREST)\n",
    "    \n",
    "    sample['image'] = Image().encode_example(img)\n",
    "    sample['annotation'] = Image().encode_example(label)\n",
    "    return sample"
   ]
  },
  {
   "cell_type": "code",
   "execution_count": 4,
   "id": "1d20965a-d3f9-484a-8d30-b8ff8c25ebf6",
   "metadata": {},
   "outputs": [],
   "source": [
    "train_dataset = ade20k_train.map(prep_dataset).with_format(\"torch\")\n",
    "valid_dataset = ade20k_valid.map(prep_dataset).with_format(\"torch\")"
   ]
  },
  {
   "cell_type": "code",
   "execution_count": 5,
   "id": "b8864631-fff9-44a6-9dbc-48dc807a33ff",
   "metadata": {},
   "outputs": [],
   "source": [
    "encoder = ModelBuilder().build_encoder(\n",
    "    arch='resnet50dilated',\n",
    "    fc_dim=2048,\n",
    "    weights='').cuda()\n",
    "decoder = ModelBuilder().build_decoder(\n",
    "    arch='ppm',\n",
    "    fc_dim=2048,\n",
    "    num_class=150,\n",
    "    weights='',\n",
    "    use_softmax=False).cuda()\n",
    "crit = nn.NLLLoss(ignore_index=-1)\n",
    "optimizer = AdamW(decoder.parameters(), lr=1e-3)"
   ]
  },
  {
   "cell_type": "code",
   "execution_count": 6,
   "id": "6c949e2b-909a-476c-94c9-506e6fd381d6",
   "metadata": {},
   "outputs": [],
   "source": [
    "def plot_loss_update(epoch, epochs, mb, train_loss, valid_loss):\n",
    "    x = range(1, epoch+1)\n",
    "    y = np.concatenate((train_loss, valid_loss))\n",
    "    graphs = [[x,train_loss], [x,valid_loss]]\n",
    "    x_margin = 0.2\n",
    "    y_margin = 0.05\n",
    "    x_bounds = [1-x_margin, epochs+x_margin]\n",
    "    y_bounds = [np.min(y)-y_margin, np.max(y)+y_margin]\n",
    "\n",
    "    mb.update_graph(graphs, x_bounds, y_bounds)"
   ]
  },
  {
   "cell_type": "code",
   "execution_count": null,
   "id": "3cd2d949-0aeb-480e-83bb-f9075ec30b8b",
   "metadata": {},
   "outputs": [
    {
     "data": {
      "text/html": [
       "\n",
       "<style>\n",
       "    /* Turns off some styling */\n",
       "    progress {\n",
       "        /* gets rid of default border in Firefox and Opera. */\n",
       "        border: none;\n",
       "        /* Needs to be in here for Safari polyfill so background images work as expected. */\n",
       "        background-size: auto;\n",
       "    }\n",
       "    progress:not([value]), progress:not([value])::-webkit-progress-bar {\n",
       "        background: repeating-linear-gradient(45deg, #7e7e7e, #7e7e7e 10px, #5c5c5c 10px, #5c5c5c 20px);\n",
       "    }\n",
       "    .progress-bar-interrupted, .progress-bar-interrupted::-webkit-progress-bar {\n",
       "        background: #F44336;\n",
       "    }\n",
       "</style>\n"
      ],
      "text/plain": [
       "<IPython.core.display.HTML object>"
      ]
     },
     "metadata": {},
     "output_type": "display_data"
    },
    {
     "data": {
      "text/html": [
       "\n",
       "    <div>\n",
       "      <progress value='2' class='' max='100' style='width:300px; height:20px; vertical-align: middle;'></progress>\n",
       "      2.00% [2/100 11:29&lt;9:22:41]\n",
       "    </div>\n",
       "    \n",
       "\n",
       "\n",
       "    <div>\n",
       "      <progress value='34' class='' max='632' style='width:300px; height:20px; vertical-align: middle;'></progress>\n",
       "      5.38% [34/632 00:13&lt;03:58]\n",
       "    </div>\n",
       "    "
      ],
      "text/plain": [
       "<IPython.core.display.HTML object>"
      ]
     },
     "metadata": {},
     "output_type": "display_data"
    },
    {
     "data": {
      "image/png": "[encoded data removed]",
      "text/plain": [
       "<Figure size 600x400 with 1 Axes>"
      ]
     },
     "metadata": {},
     "output_type": "display_data"
    }
   ],
   "source": [
    "train_loss, valid_loss = [], []\n",
    "epochs = 100\n",
    "mb = master_bar(range(1, epochs+1))\n",
    "for epoch in mb:\n",
    "    \n",
    "    train_dataloader = DataLoader(train_dataset, batch_size=32, shuffle=True)\n",
    "    for batch in progress_bar(train_dataloader,parent=mb):\n",
    "        optimizer.zero_grad()\n",
    "        x = batch['image'].to(torch.float32).permute((0,3,1,2))\n",
    "        x = (x/255).cuda()\n",
    "        y = batch['annotation'].to(torch.int64) - 1   \n",
    "        y = y.cuda()\n",
    "        ŷ = decoder(encoder(x))\n",
    "        loss = crit(ŷ,y)\n",
    "        loss.backward()\n",
    "        optimizer.step()\n",
    "    train_loss.append(loss.detach().cpu().item())\n",
    "    \n",
    "    valid_dataloader = DataLoader(train_dataset, batch_size=32, shuffle=True)\n",
    "    for batch in progress_bar(valid_dataloader,parent=mb):\n",
    "        x = batch['image'].to(torch.float32).permute((0,3,1,2))\n",
    "        x = (x/255).cuda()\n",
    "        y = batch['annotation'].to(torch.int64) - 1   \n",
    "        y = y.cuda()\n",
    "        ŷ = decoder(encoder(x))\n",
    "        loss = crit(ŷ,y)\n",
    "    valid_loss.append(loss.detach().cpu().item())\n",
    "    \n",
    "    plot_loss_update(epoch, epochs, mb, train_loss, valid_loss)"
   ]
  },
  {
   "cell_type": "code",
   "execution_count": null,
   "id": "3b921f69-ec7a-4f9e-ba47-28afa1844ac0",
   "metadata": {},
   "outputs": [],
   "source": [
    "torch.save(decoder.state_dict(), f\"decoder_weights.pth\")"
   ]
  }
 ],
 "metadata": {
  "kernelspec": {
   "display_name": "Python 3 (ipykernel)",
   "language": "python",
   "name": "python3"
  },
  "language_info": {
   "codemirror_mode": {
    "name": "ipython",
    "version": 3
   },
   "file_extension": ".py",
   "mimetype": "text/x-python",
   "name": "python",
   "nbconvert_exporter": "python",
   "pygments_lexer": "ipython3",
   "version": "3.10.12"
  }
 },
 "nbformat": 4,
 "nbformat_minor": 5
}
