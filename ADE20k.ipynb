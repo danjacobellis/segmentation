{
 "cells": [
  {
   "cell_type": "code",
   "execution_count": 1,
   "id": "de63fb14-57f9-4b65-bcd6-d267c7f232f8",
   "metadata": {},
   "outputs": [],
   "source": [
    "from datasets import load_dataset, Image\n",
    "from torch.utils.data import DataLoader\n",
    "from mit_semseg.models.resnet import resnet50\n",
    "from mit_semseg.models import ModelBuilder, SegmentationModule \n",
    "import PIL\n",
    "import torch\n",
    "import torch.nn as nn"
   ]
  },
  {
   "cell_type": "code",
   "execution_count": 2,
   "id": "c6a96cda-4680-4e9a-8ef2-3df590923728",
   "metadata": {},
   "outputs": [],
   "source": [
    "def prep_dataset(sample):\n",
    "    img = sample['image']\n",
    "    label = sample['annotation']\n",
    "    sample['width'] = img.width\n",
    "    sample['height'] = img.height\n",
    "\n",
    "    if (img.mode == 'L') | (img.mode == 'CMYK') | (img.mode == 'RGBA'):\n",
    "        rgbimg = PIL.Image.new(\"RGB\", img.size)\n",
    "        rgbimg.paste(img)\n",
    "        img = rgbimg\n",
    "\n",
    "    img = img.resize((256,256),resample=PIL.Image.LANCZOS)\n",
    "    label = label.resize((256,256),resample=PIL.Image.LANCZOS)\n",
    "    \n",
    "    sample['image'] = Image().encode_example(img)\n",
    "    sample['annotation'] = Image().encode_example(label)\n",
    "    return sample"
   ]
  },
  {
   "cell_type": "code",
   "execution_count": 3,
   "id": "b8864631-fff9-44a6-9dbc-48dc807a33ff",
   "metadata": {},
   "outputs": [
    {
     "data": {
      "application/vnd.jupyter.widget-view+json": {
       "model_id": "559c202230414c97bdb95c0c6734cb6e",
       "version_major": 2,
       "version_minor": 0
      },
      "text/plain": [
       "Map:   0%|          | 0/1024 [00:00<?, ? examples/s]"
      ]
     },
     "metadata": {},
     "output_type": "display_data"
    },
    {
     "name": "stderr",
     "output_type": "stream",
     "text": [
      "/tmp/ipykernel_236240/3640807120.py:12: DeprecationWarning: LANCZOS is deprecated and will be removed in Pillow 10 (2023-07-01). Use Resampling.LANCZOS instead.\n",
      "  img = img.resize((256,256),resample=PIL.Image.LANCZOS)\n",
      "/tmp/ipykernel_236240/3640807120.py:13: DeprecationWarning: LANCZOS is deprecated and will be removed in Pillow 10 (2023-07-01). Use Resampling.LANCZOS instead.\n",
      "  label = label.resize((256,256),resample=PIL.Image.LANCZOS)\n",
      "Downloading: \"http://sceneparsing.csail.mit.edu/model/pretrained_resnet/resnet50-imagenet.pth\" to ./pretrained/resnet50-imagenet.pth\n"
     ]
    }
   ],
   "source": [
    "dataset = load_dataset(\"scene_parse_150\",split='train[0:1024]')\n",
    "dataset = dataset.map(prep_dataset)\n",
    "dataset.set_format(\"torch\")\n",
    "encoder = ModelBuilder().build_encoder(\n",
    "    arch='resnet50dilated',\n",
    "    fc_dim=2048,\n",
    "    weights='')\n",
    "decoder = ModelBuilder().build_decoder(\n",
    "    arch='ppm',\n",
    "    fc_dim=2048,\n",
    "    num_class=150,\n",
    "    weights='',\n",
    "    use_softmax=False)\n",
    "crit = nn.NLLLoss(ignore_index=-1)\n",
    "sm = SegmentationModule(encoder,decoder,crit)\n",
    "dataloader = DataLoader(dataset, batch_size=64, shuffle=True)"
   ]
  },
  {
   "cell_type": "code",
   "execution_count": 33,
   "id": "76c1d67f-38b7-4d6b-a6a5-f0717f7e4afe",
   "metadata": {},
   "outputs": [
    {
     "data": {
      "text/plain": [
       "torch.Size([4, 3, 256, 256])"
      ]
     },
     "execution_count": 33,
     "metadata": {},
     "output_type": "execute_result"
    }
   ],
   "source": [
    "x = dataset[0:4]['image'].to(torch.float32)\n",
    "x = x.permute((0,3,1,2))\n",
    "x.shape"
   ]
  },
  {
   "cell_type": "code",
   "execution_count": 34,
   "id": "2c7df588-dac0-47b1-8a35-577e74cba74d",
   "metadata": {},
   "outputs": [],
   "source": [
    "y = encoder.forward(x)"
   ]
  },
  {
   "cell_type": "code",
   "execution_count": 37,
   "id": "8dce8fae-19e3-433e-a93c-029950859163",
   "metadata": {},
   "outputs": [
    {
     "data": {
      "text/plain": [
       "torch.Size([4, 2048, 32, 32])"
      ]
     },
     "execution_count": 37,
     "metadata": {},
     "output_type": "execute_result"
    }
   ],
   "source": [
    "y[0].shape"
   ]
  },
  {
   "cell_type": "code",
   "execution_count": 39,
   "id": "50bc9907-72ec-4d6f-b82a-80ed96911a1b",
   "metadata": {},
   "outputs": [],
   "source": [
    "z = decoder.forward(y)"
   ]
  },
  {
   "cell_type": "code",
   "execution_count": 42,
   "id": "f81f5665-b9b6-4a28-b289-f853ee917ff9",
   "metadata": {},
   "outputs": [
    {
     "data": {
      "text/plain": [
       "torch.Size([150, 32, 32])"
      ]
     },
     "execution_count": 42,
     "metadata": {},
     "output_type": "execute_result"
    }
   ],
   "source": [
    "z[0].shape"
   ]
  },
  {
   "cell_type": "code",
   "execution_count": 6,
   "id": "99b3e901-8919-4851-b0da-ec97136d9a07",
   "metadata": {},
   "outputs": [
    {
     "data": {
      "text/plain": [
       "torch.Size([64, 256, 256])"
      ]
     },
     "execution_count": 6,
     "metadata": {},
     "output_type": "execute_result"
    }
   ],
   "source": [
    "y.shape"
   ]
  }
 ],
 "metadata": {
  "kernelspec": {
   "display_name": "Python 3 (ipykernel)",
   "language": "python",
   "name": "python3"
  },
  "language_info": {
   "codemirror_mode": {
    "name": "ipython",
    "version": 3
   },
   "file_extension": ".py",
   "mimetype": "text/x-python",
   "name": "python",
   "nbconvert_exporter": "python",
   "pygments_lexer": "ipython3",
   "version": "3.10.12"
  }
 },
 "nbformat": 4,
 "nbformat_minor": 5
}
